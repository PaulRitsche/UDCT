{
 "cells": [
  {
   "cell_type": "code",
   "execution_count": 4,
   "id": "9d9804b5",
   "metadata": {},
   "outputs": [],
   "source": [
    "from PIL import Image, ImageOps\n",
    "import glob \n",
    "import cv2\n",
    "import os"
   ]
  },
  {
   "cell_type": "code",
   "execution_count": 6,
   "id": "ebd00392",
   "metadata": {
    "scrolled": true
   },
   "outputs": [],
   "source": [
    "# Subfolder in WD needed called \"Real\"\n",
    "\n",
    "# Get hardcoded root with image\n",
    "rootpath = \"Real/\"\n",
    "\n",
    "# Get list of images\n",
    "list_of_files = glob.glob(rootpath + \"/**/*.bmp\", recursive=True)\n",
    "# Create index\n",
    "num = 0\n",
    "\n",
    "# Loop trough images\n",
    "for imagepath in list_of_files: \n",
    "    img = Image.open(imagepath)\n",
    "    # Crop image\n",
    "    width, height = img.size \n",
    "    img_crop = img.crop((width - 550, height-550, width-75, height-150))\n",
    "    # Resize image\n",
    "    img_res = img_crop.resize((256, 256))\n",
    "    # Change to grayscale\n",
    "    img_grey = ImageOps.grayscale(img_res)\n",
    "    # Flip image\n",
    "    img_flip = img_grey.transpose(Image.FLIP_LEFT_RIGHT)\n",
    "    # Save Image\n",
    "    img_flip.save(\"Real/real_image\" + str(num) + \".png\", quality=100)\n",
    "    # Increase index\n",
    "    num += 1\n",
    "    "
   ]
  },
  {
   "cell_type": "code",
   "execution_count": null,
   "id": "2bd15046",
   "metadata": {},
   "outputs": [],
   "source": [
    "\n",
    "    "
   ]
  },
  {
   "cell_type": "code",
   "execution_count": null,
   "id": "76fde7f5",
   "metadata": {},
   "outputs": [],
   "source": []
  }
 ],
 "metadata": {
  "kernelspec": {
   "display_name": "Python 3",
   "language": "python",
   "name": "python3"
  },
  "language_info": {
   "codemirror_mode": {
    "name": "ipython",
    "version": 3
   },
   "file_extension": ".py",
   "mimetype": "text/x-python",
   "name": "python",
   "nbconvert_exporter": "python",
   "pygments_lexer": "ipython3",
   "version": "3.7.10"
  }
 },
 "nbformat": 4,
 "nbformat_minor": 5
}
