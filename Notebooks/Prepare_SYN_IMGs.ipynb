{
 "cells": [
  {
   "cell_type": "code",
   "execution_count": 1,
   "id": "9d9804b5",
   "metadata": {},
   "outputs": [],
   "source": [
    "from PIL import Image, ImageOps\n",
    "import glob \n",
    "import cv2"
   ]
  },
  {
   "cell_type": "code",
   "execution_count": 26,
   "id": "ebd00392",
   "metadata": {},
   "outputs": [],
   "source": [
    "# Subfolder needed in WD called \"Synthetic\"\n",
    "\n",
    "# Get hardcoded root with imagefiles \n",
    "rootpath = \"Synthetic/\"\n",
    "\n",
    "# Get list of images\n",
    "list_of_files = glob.glob(rootpath + \"/**/*.png\", recursive=True)\n",
    "\n",
    "# Create index \n",
    "num = 0\n",
    "\n",
    "# Resize images and turn to greyscale, save them to \"Synthetic\"\n",
    "for imagepath in list_of_files: \n",
    "    img = Image.open(imagepath)\n",
    "    img_res = img.resize((256, 256))\n",
    "    img_grey = ImageOps.grayscale(img_res)\n",
    "    img_grey.save(\"Synthetic/syn_image\" + num + \".png\", quality=100)\n",
    "    num += 1\n",
    "    \n",
    "\n",
    "\n"
   ]
  },
  {
   "cell_type": "code",
   "execution_count": null,
   "id": "a01b23de",
   "metadata": {},
   "outputs": [],
   "source": []
  }
 ],
 "metadata": {
  "kernelspec": {
   "display_name": "Python 3",
   "language": "python",
   "name": "python3"
  },
  "language_info": {
   "codemirror_mode": {
    "name": "ipython",
    "version": 3
   },
   "file_extension": ".py",
   "mimetype": "text/x-python",
   "name": "python",
   "nbconvert_exporter": "python",
   "pygments_lexer": "ipython3",
   "version": "3.7.10"
  }
 },
 "nbformat": 4,
 "nbformat_minor": 5
}
