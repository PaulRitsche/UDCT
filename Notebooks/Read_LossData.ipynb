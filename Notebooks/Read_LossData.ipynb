{
 "cells": [
  {
   "cell_type": "code",
   "execution_count": 8,
   "metadata": {},
   "outputs": [],
   "source": [
    "import numpy as np\n",
    "import os\n",
    "import pandas as pd"
   ]
  },
  {
   "cell_type": "code",
   "execution_count": 17,
   "metadata": {},
   "outputs": [],
   "source": [
    "# Find the saved loss files\n",
    "os.chdir('C:/UDCT/Models')\n",
    "pref = 'US_70_loss_' # Model name\n",
    "filenames = ['dis_A.npy', 'dis_B.npy', 'gen_A.npy', 'gen_B.npy'] # These filenames will be the same for all models"
   ]
  },
  {
   "cell_type": "code",
   "execution_count": 18,
   "metadata": {},
   "outputs": [],
   "source": [
    "# Load the loss values for the discriminator and generator networks, and create dataframes\n",
    "# The 'h' in the column names/loss values seem to represent histogram\n",
    "dis_A = np.load(str(pref) + str(filenames[0]))\n",
    "dis_A_out = pd.DataFrame(dis_A)\n",
    "dis_A_out = dis_A_out.T\n",
    "dis_A_out.columns = ['real_A', 'fake_A', 'real_Ah', 'fake_Ah']\n",
    "\n",
    "dis_B = np.load(str(pref) + str(filenames[1]))\n",
    "dis_B_out = pd.DataFrame(dis_B)\n",
    "dis_B_out = dis_B_out.T\n",
    "dis_B_out.columns = ['real_B', 'fake_B', 'real_Bh', 'fake_Bh']\n",
    "\n",
    "gen_A = np.load(str(pref) + str(filenames[2]))\n",
    "gen_A_out = pd.DataFrame(gen_A)\n",
    "gen_A_out = gen_A_out.T\n",
    "gen_A_out.columns = ['discrim_Fake_A', 'discrim_Fake_Ah', 'cycleGAN_l']\n",
    "\n",
    "gen_B = np.load(str(pref) + str(filenames[3]))\n",
    "gen_B_out = pd.DataFrame(gen_B)\n",
    "gen_B_out = gen_B_out.T\n",
    "gen_B_out.columns = ['discrim_Fake_B', 'discrim_Fake_Bh', 'cycleGAN_l']"
   ]
  },
  {
   "cell_type": "code",
   "execution_count": 19,
   "metadata": {},
   "outputs": [],
   "source": [
    "# Save the data to excel\n",
    "dis_A_out.to_excel(str(pref) + 'discriminatorA.xlsx')\n",
    "dis_B_out.to_excel(str(pref) + 'discriminatorB.xlsx')\n",
    "gen_A_out.to_excel(str(pref) + 'generatorA.xlsx')\n",
    "gen_B_out.to_excel(str(pref) + 'generatorB.xlsx')"
   ]
  }
 ],
 "metadata": {
  "kernelspec": {
   "display_name": "Python 3",
   "language": "python",
   "name": "python3"
  },
  "language_info": {
   "codemirror_mode": {
    "name": "ipython",
    "version": 3
   },
   "file_extension": ".py",
   "mimetype": "text/x-python",
   "name": "python",
   "nbconvert_exporter": "python",
   "pygments_lexer": "ipython3",
   "version": "3.6.8"
  }
 },
 "nbformat": 4,
 "nbformat_minor": 2
}
